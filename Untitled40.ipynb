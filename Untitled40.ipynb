{
 "cells": [
  {
   "cell_type": "markdown",
   "id": "b3606ee7",
   "metadata": {},
   "source": [
    "(1).What are the two values of the Boolean data type? How do you write them?"
   ]
  },
  {
   "cell_type": "code",
   "execution_count": null,
   "id": "b1b6d791",
   "metadata": {},
   "outputs": [],
   "source": [
    "Booleans represent one of two values: True or False\n",
    "    \n",
    "The Python Boolean type is one of Python's built-in data types. It's used to represent the truth value of an expression.\n",
    "For example, the expression 1 <= 2 is True , while the expression 0 == 1 is False .\n",
    "\n",
    "The and Boolean Operator.\n",
    "A         B        A and B\n",
    "True   False       False\n",
    "False  False       False\n",
    "False  True        False\n",
    "True   True        True"
   ]
  },
  {
   "cell_type": "markdown",
   "id": "8c8e4674",
   "metadata": {},
   "source": [
    "(2).What are the three different types of Boolean operators?"
   ]
  },
  {
   "cell_type": "code",
   "execution_count": null,
   "id": "8b412fc2",
   "metadata": {},
   "outputs": [],
   "source": [
    "The three basic boolean operators are: AND, OR, and NOT."
   ]
  },
  {
   "cell_type": "markdown",
   "id": "5fcb5528",
   "metadata": {},
   "source": [
    "(3).Make a list of each Boolean operator's truth tables (i.e. every possible combination of Boolean\n",
    "values for the operator and what it evaluate )."
   ]
  },
  {
   "cell_type": "markdown",
   "id": "1b29a364",
   "metadata": {},
   "source": [
    "True and True is True.\n",
    "\n",
    "True and False is False.\n",
    "\n",
    "False and True is False.\n",
    "\n",
    "False and False is False.\n",
    "\n",
    "True or True is True.\n",
    "\n",
    "True or False is True.\n",
    "\n",
    "False or True is True.\n",
    "\n",
    "False or False is False.\n",
    "\n",
    "not True is False.\n",
    "\n",
    "not False is True.\n",
    "\n",
    "True is 1 and False is 0\n",
    "\n",
    "       Truth Table for AND\n",
    "           \n",
    "        A B output\n",
    "        0 0 0\n",
    "        0 1 0\n",
    "        1 0 0\n",
    "        1 1 1\n",
    "\n",
    "        Truth Table for OR\n",
    "\n",
    "        A B output\n",
    "        0 0 0\n",
    "        0 1 1\n",
    "        1 0 1\n",
    "        1 1 1\n",
    "\n",
    "        Truth Table for NOT\n",
    "\n",
    "        A output\n",
    "        0 1\n",
    "        1 0"
   ]
  },
  {
   "cell_type": "markdown",
   "id": "5c4f8b6a",
   "metadata": {},
   "source": [
    "(4).What are the values of the following expressions?\n",
    "(5 > 4) and (3 == 5)\n",
    "not (5 > 4)\n",
    "(5 > 4) or (3 == 5)\n",
    "not ((5 > 4) or (3 == 5))\n",
    "(True and True) and (True == False)\n",
    "(not False) or (not True)"
   ]
  },
  {
   "cell_type": "code",
   "execution_count": 12,
   "id": "10e9fc01",
   "metadata": {},
   "outputs": [
    {
     "name": "stdout",
     "output_type": "stream",
     "text": [
      "False\n",
      "False\n",
      "True\n",
      "False\n",
      "False\n",
      "True\n"
     ]
    }
   ],
   "source": [
    "print((5>4) and (3==5))\n",
    "print(not(5>4))\n",
    "print((5>4) or (3==5))\n",
    "print(not(5>4) or (3==5))\n",
    "print((True and True) and (True==False))\n",
    "print((not(False))or(not(True)))"
   ]
  },
  {
   "cell_type": "raw",
   "id": "54da61d8",
   "metadata": {},
   "source": [
    "(5).What are the six comparison operators?"
   ]
  },
  {
   "cell_type": "code",
   "execution_count": null,
   "id": "d591ea5a",
   "metadata": {},
   "outputs": [],
   "source": [
    " Python has six comparison operators: less than ( < ), less than or equal to ( <= ), greater than ( > ), greater than or equal to ( >= ), equal to ( == ), and not equal to ( != )."
   ]
  },
  {
   "cell_type": "markdown",
   "id": "1972eebd",
   "metadata": {},
   "source": [
    "(6).How do you tell the difference between the equal to and assignment operators?Describe a\n",
    "condition and when you would use one."
   ]
  },
  {
   "cell_type": "code",
   "execution_count": null,
   "id": "9a466df2",
   "metadata": {},
   "outputs": [],
   "source": [
    "== is the equal to operator that compares two values and evaluates to a Boolean,\n",
    "while = is the assignment operator that stores a value in a variable"
   ]
  },
  {
   "cell_type": "code",
   "execution_count": 15,
   "id": "89131199",
   "metadata": {},
   "outputs": [
    {
     "name": "stdout",
     "output_type": "stream",
     "text": [
      "False\n",
      "c = 1\n"
     ]
    }
   ],
   "source": [
    "#eg\n",
    "\n",
    "# Equal To Operator\n",
    "if(2==3):\n",
    "    print(\"True\")\n",
    "else:\n",
    "    print(\"False\")\n",
    "#Assignment operator\n",
    "c=1 #here we have used assignment operator(=) to assign value of c which is 1\n",
    "print(\"c =\",c)"
   ]
  },
  {
   "cell_type": "markdown",
   "id": "ff9c96e8",
   "metadata": {},
   "source": [
    "(7).Identify the three blocks in this code:\n",
    "spam = 0\n",
    "if spam = 0\n",
    "if spam == 10:\n",
    "print('eggs')\n",
    "if spam > 5:\n",
    "print('bacon')\n",
    "else:\n",
    "print('spam')\n",
    "print('spam')\n",
    "print('spam')"
   ]
  },
  {
   "cell_type": "code",
   "execution_count": 16,
   "id": "8b9d23bb",
   "metadata": {},
   "outputs": [
    {
     "name": "stdout",
     "output_type": "stream",
     "text": [
      "ham\n",
      "spam\n",
      "spam\n"
     ]
    }
   ],
   "source": [
    "spam = 0\n",
    "if spam == 10:\n",
    "    print('eggs') #Block 1\n",
    "if spam > 5:\n",
    "    print('bacon') #Block 2\n",
    "else:\n",
    "    print('ham') #Block 3\n",
    "    print('spam')\n",
    "    print('spam')\n"
   ]
  },
  {
   "cell_type": "markdown",
   "id": "133d34d3",
   "metadata": {},
   "source": [
    "(8).Write code that prints Hello if 1 is stored in spam, prints Howdy if 2 is stored in spam, and prints\n",
    "Greetings! if anything else is stored in spam."
   ]
  },
  {
   "cell_type": "code",
   "execution_count": 19,
   "id": "8c02f888",
   "metadata": {},
   "outputs": [
    {
     "name": "stdout",
     "output_type": "stream",
     "text": [
      "2\n",
      "Greetings!\n"
     ]
    }
   ],
   "source": [
    "spam = input()\n",
    "\n",
    "if spam == 1:\n",
    "    print('Hello')\n",
    "elif spam == 2:\n",
    "    print('Howdy')\n",
    "else:\n",
    "    print('Greetings!')\n",
    "\n"
   ]
  },
  {
   "cell_type": "raw",
   "id": "8dcda148",
   "metadata": {},
   "source": [
    "(9).If your programme is stuck in an endless loop, what keys you’ll press?\n",
    "\n"
   ]
  },
  {
   "cell_type": "markdown",
   "id": "cdf1723d",
   "metadata": {},
   "source": [
    "If program is stuck in endless loop we will press ctrl+c."
   ]
  },
  {
   "cell_type": "markdown",
   "id": "3e1d7cdc",
   "metadata": {},
   "source": [
    "(10).How can you tell the difference between break and continue?"
   ]
  },
  {
   "cell_type": "code",
   "execution_count": 20,
   "id": "a906684a",
   "metadata": {},
   "outputs": [
    {
     "name": "stdout",
     "output_type": "stream",
     "text": [
      "0\n",
      "1\n",
      "2\n",
      "3\n",
      "4\n",
      "5\n",
      "6\n",
      "Breaked\n",
      "0\n",
      "1\n",
      "2\n",
      "3\n",
      "4\n",
      "5\n",
      "6\n",
      "8\n",
      "9\n"
     ]
    }
   ],
   "source": [
    "# use of break\n",
    "for i in range(10):\n",
    "    if(i==7):\n",
    "        break\n",
    "    print(i)\n",
    "    \n",
    "print('Breaked')\n",
    "#use of  continue\n",
    "for i in range(10):\n",
    "    if(i==7):\n",
    "        continue\n",
    "    print(i)\n",
    "    "
   ]
  },
  {
   "cell_type": "code",
   "execution_count": null,
   "id": "45799942",
   "metadata": {},
   "outputs": [],
   "source": [
    "Ans . The break statement will move the execution outside and just after a loop.\n",
    "The continue statement will move the execution to the start of the loop\n"
   ]
  },
  {
   "cell_type": "markdown",
   "id": "476353ba",
   "metadata": {},
   "source": [
    "(11).In a for loop, what is the difference between range(10), range(0, 10), and range(0, 10, 1)?"
   ]
  },
  {
   "cell_type": "code",
   "execution_count": 21,
   "id": "e264edf0",
   "metadata": {},
   "outputs": [
    {
     "name": "stdout",
     "output_type": "stream",
     "text": [
      "0\n",
      "1\n",
      "2\n",
      "3\n",
      "4\n",
      "5\n",
      "6\n",
      "7\n",
      "8\n",
      "9\n",
      "ujjawal\n",
      "0\n",
      "1\n",
      "2\n",
      "3\n",
      "4\n",
      "5\n",
      "6\n",
      "7\n",
      "8\n",
      "9\n",
      "ujjawal\n",
      "0\n",
      "1\n",
      "2\n",
      "3\n",
      "4\n",
      "5\n",
      "6\n",
      "7\n",
      "8\n",
      "9\n"
     ]
    }
   ],
   "source": [
    "for i in range(10):\n",
    "    print(i)\n",
    "print(\"ujjawal\") \n",
    "for i in range(0,10):\n",
    "    print(i)\n",
    "print(\"ujjawal\")\n",
    "for i in range(0,10,1):\n",
    "    print(i)"
   ]
  },
  {
   "cell_type": "code",
   "execution_count": null,
   "id": "f4900de8",
   "metadata": {},
   "outputs": [],
   "source": [
    "From the above output we can conclude that they all do the same thing.\n",
    "The range(10) call ranges from 0 up to (but not including) 10,\n",
    " range(0, 10) tells the loop to start at 0,\n",
    "and range(0, 10, 1) tells the loop to increase the variable by 1 on each iteration."
   ]
  },
  {
   "cell_type": "raw",
   "id": "abd5fccc",
   "metadata": {},
   "source": [
    "(12) Write a short program that prints the numbers 1 to 10 using a for loop. \n",
    "Then write an equivalent program that prints the numbers 1 to 10 using a while loop."
   ]
  },
  {
   "cell_type": "code",
   "execution_count": 23,
   "id": "e37f62bb",
   "metadata": {},
   "outputs": [
    {
     "name": "stdout",
     "output_type": "stream",
     "text": [
      "For Loop\n",
      "1\n",
      "2\n",
      "3\n",
      "4\n",
      "5\n",
      "6\n",
      "7\n",
      "8\n",
      "9\n",
      "10\n",
      "While Loop\n",
      "1\n",
      "2\n",
      "3\n",
      "4\n",
      "5\n",
      "6\n",
      "7\n",
      "8\n",
      "9\n",
      "10\n"
     ]
    }
   ],
   "source": [
    "#Use of For Loop\n",
    "\n",
    "print(\"For Loop\")\n",
    "for i in range(1,11):\n",
    "    print(i)\n",
    "    \n",
    "#Use of While Loop\n",
    "\n",
    "print(\"While Loop\")\n",
    "a =1\n",
    "while a <= 10:\n",
    "    print(a)\n",
    "    a+=1"
   ]
  },
  {
   "cell_type": "markdown",
   "id": "0d74ae83",
   "metadata": {},
   "source": [
    "(13).If you had a function named bacon() inside a module named spam, how would you call it after importing spam?"
   ]
  },
  {
   "cell_type": "markdown",
   "id": "f88f66cd",
   "metadata": {},
   "source": [
    "Ans - This function can be called with spam.bacon()."
   ]
  }
 ],
 "metadata": {
  "kernelspec": {
   "display_name": "Python 3 (ipykernel)",
   "language": "python",
   "name": "python3"
  },
  "language_info": {
   "codemirror_mode": {
    "name": "ipython",
    "version": 3
   },
   "file_extension": ".py",
   "mimetype": "text/x-python",
   "name": "python",
   "nbconvert_exporter": "python",
   "pygments_lexer": "ipython3",
   "version": "3.9.12"
  }
 },
 "nbformat": 4,
 "nbformat_minor": 5
}
